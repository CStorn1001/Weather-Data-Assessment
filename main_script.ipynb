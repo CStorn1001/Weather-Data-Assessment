{
 "cells": [
  {
   "cell_type": "code",
   "execution_count": 7,
   "metadata": {},
   "outputs": [],
   "source": [
    "from pymongo import MongoClient\n",
    "import nltk\n",
    "from nltk.tokenize import sent_tokenize, word_tokenize\n",
    "import csv\n",
    "from collections import Counter\n",
    "import pandas as pd\n",
    "import numpy as np\n"
   ]
  },
  {
   "cell_type": "code",
   "execution_count": 8,
   "metadata": {},
   "outputs": [],
   "source": [
    "#connecting to MongoClient through Studio3T\n",
    "client = MongoClient(port = 27017)\n",
    "db = client[\"Weather_data\"]\n",
    "weather_data = []\n",
    "#grabbing all datasets (json files) via Studio3T\n",
    "for n in range(0,7):\n",
    "    weather_data.append(db[f'{n}'])"
   ]
  },
  {
   "cell_type": "code",
   "execution_count": 9,
   "metadata": {},
   "outputs": [
    {
     "name": "stdout",
     "output_type": "stream",
     "text": [
      "<class 'pymongo.collection.Collection'>\n",
      "Collection(Database(MongoClient(host=['localhost:27017'], document_class=dict, tz_aware=False, connect=True), 'Weather_data'), '1')\n"
     ]
    }
   ],
   "source": [
    "#Shows how one element of the weather_data\n",
    "print(type(weather_data[1]))\n",
    "print(weather_data[1])"
   ]
  },
  {
   "cell_type": "code",
   "execution_count": 10,
   "metadata": {},
   "outputs": [
    {
     "name": "stdout",
     "output_type": "stream",
     "text": [
      "{'_id': ObjectId('62f59b5c84db5e328ee97c23'), 'LocalObservationDateTime': '2022-08-04T09:55:00+08:00', 'EpochTime': 1659578100, 'WeatherText': ' MOstlY ClOudy ', 'WeatherIcon': 6, 'HasPrecipitation': False, 'PrecipitationType': None, 'IsDayTime': True, 'Temperature': {'Metric': {'Value': 12.2, 'Unit': 'C', 'UnitType': 17}, 'Imperial': {'Value': 54.0, 'Unit': 'F', 'UnitType': 18}}, 'city': ' pERTH '}\n",
      "\n",
      "\n",
      "{'_id': ObjectId('62f59b5c84db5e328ee97c24'), 'LocalObservationDateTime': '2022-08-04T11:25:00+09:30', 'EpochTime': 1659578100, 'WeatherText': ' MOStlY CloUdy ', 'WeatherIcon': 6, 'HasPrecipitation': False, 'PrecipitationType': None, 'IsDayTime': True, 'Temperature': {'Metric': {'Value': 26.1, 'Unit': 'C', 'UnitType': 17}, 'Imperial': {'Value': 79.0, 'Unit': 'F', 'UnitType': 18}}, 'city': ' darwIN '}\n",
      "\n",
      "\n",
      "{'_id': ObjectId('62f59b5c84db5e328ee97c83'), 'LocalObservationDateTime': '2022-08-04T11:55:00+10:00', 'EpochTime': 1659578100, 'WeatherText': ' rAIN ', 'WeatherIcon': 18, 'HasPrecipitation': True, 'PrecipitationType': 'Rain', 'IsDayTime': True, 'Temperature': {'Metric': {'Value': 13.9, 'Unit': 'C', 'UnitType': 17}, 'Imperial': {'Value': 57.0, 'Unit': 'F', 'UnitType': 18}}, 'city': ' canBerra '}\n",
      "\n",
      "\n",
      "{'_id': ObjectId('62f59b5c84db5e328ee97c6b'), 'LocalObservationDateTime': '2022-08-04T12:00:00+10:00', 'EpochTime': 1659578400, 'WeatherText': ' CLOudS and SuN ', 'WeatherIcon': 4, 'HasPrecipitation': False, 'PrecipitationType': None, 'IsDayTime': True, 'Temperature': {'Metric': {'Value': 14.3, 'Unit': 'C', 'UnitType': 17}, 'Imperial': {'Value': 58.0, 'Unit': 'F', 'UnitType': 18}}, 'city': ' hOBART '}\n",
      "\n",
      "\n",
      "{'_id': ObjectId('62f59b5c84db5e328ee97c34'), 'LocalObservationDateTime': '2022-08-04T12:00:00+10:00', 'EpochTime': 1659578400, 'WeatherText': ' mOSTLy cLouDy ', 'WeatherIcon': 6, 'HasPrecipitation': False, 'PrecipitationType': None, 'IsDayTime': True, 'Temperature': {'Metric': {'Value': 17.2, 'Unit': 'C', 'UnitType': 17}, 'Imperial': {'Value': 63.0, 'Unit': 'F', 'UnitType': 18}}, 'city': ' MeLBOUrNe '}\n",
      "\n",
      "\n",
      "{'_id': ObjectId('62f59b5c84db5e328ee97c9b'), 'LocalObservationDateTime': '2022-08-04T12:55:00+10:00', 'EpochTime': 1659581700, 'WeatherText': ' partly SuNny ', 'WeatherIcon': 3, 'HasPrecipitation': False, 'PrecipitationType': None, 'IsDayTime': True, 'Temperature': {'Metric': {'Value': 22.5, 'Unit': 'C', 'UnitType': 17}, 'Imperial': {'Value': 72.0, 'Unit': 'F', 'UnitType': 18}}, 'city': ' bRisbane '}\n",
      "\n",
      "\n",
      "{'_id': ObjectId('62f59b5c84db5e328ee97caf'), 'LocalObservationDateTime': '2022-08-04T12:00:00+10:00', 'EpochTime': 1659578400, 'WeatherText': ' cLouDy ', 'WeatherIcon': 7, 'HasPrecipitation': False, 'PrecipitationType': None, 'IsDayTime': True, 'Temperature': {'Metric': {'Value': 22.0, 'Unit': 'C', 'UnitType': 17}, 'Imperial': {'Value': 72.0, 'Unit': 'F', 'UnitType': 18}}, 'city': ' SYDNEY '}\n",
      "\n",
      "\n"
     ]
    }
   ],
   "source": [
    "for i in weather_data:\n",
    "    for t in i.find({}).limit(1):\n",
    "        print(t)\n",
    "    print(\"\\n\")\n"
   ]
  },
  {
   "cell_type": "markdown",
   "metadata": {},
   "source": [
    "### Findings\n",
    "* Weather and city keys have mixed upper and lower cased values eg PeRtH and CloUDY\n",
    "* In each document Data includes both Metric (Celcius) and Imperial (Fahrenheit) for weather data"
   ]
  },
  {
   "cell_type": "markdown",
   "metadata": {},
   "source": [
    "Must update the text for City and WeatherText, with do this in Part a and b."
   ]
  },
  {
   "cell_type": "markdown",
   "metadata": {},
   "source": [
    "# Part a - Average temperature per city"
   ]
  },
  {
   "cell_type": "markdown",
   "metadata": {},
   "source": [
    "## Part a - With Metric"
   ]
  },
  {
   "cell_type": "code",
   "execution_count": 11,
   "metadata": {},
   "outputs": [],
   "source": [
    "#Writing a new text file that searches through each document (json files) and grabs the city (lowercase) and the metric temperature value (seperated by colon)\n",
    "\n",
    "with open('part_a_metric.txt', 'w', encoding='utf-8') as f:\n",
    "    for i in weather_data:\n",
    "        for t in i.find({}):\n",
    "            f.write(t[\"city\"].lower())\n",
    "            f.write(':')\n",
    "            #convert to string as write does not pass integers or floats\n",
    "            f.write(str(t[\"Temperature\"][\"Metric\"][\"Value\"]))\n",
    "            f.write(\"\\n\")\n"
   ]
  },
  {
   "cell_type": "markdown",
   "metadata": {},
   "source": [
    "## Part a - With Imperial"
   ]
  },
  {
   "cell_type": "code",
   "execution_count": 12,
   "metadata": {},
   "outputs": [],
   "source": [
    "with open('part_a_imperial.txt', 'w', encoding='utf-8') as f:\n",
    "    for i in weather_data:\n",
    "        for t in i.find({}):\n",
    "            f.write(t[\"city\"].lower())\n",
    "            f.write(':')\n",
    "            #convert to string as write does not pass integers or floats\n",
    "            f.write(str(t[\"Temperature\"][\"Imperial\"][\"Value\"]))\n",
    "            f.write(\"\\n\")"
   ]
  },
  {
   "cell_type": "markdown",
   "metadata": {},
   "source": [
    "# Part b - Top three most common 'weather text' for each city"
   ]
  },
  {
   "cell_type": "code",
   "execution_count": 13,
   "metadata": {},
   "outputs": [],
   "source": [
    "#similar to part a however we will grab city and weathertext \n",
    "with open('part_b_data.txt', 'w', encoding='utf-8') as f:\n",
    "    for i in weather_data:\n",
    "        for t in i.find({}):\n",
    "            f.write(t[\"city\"].lower())\n",
    "            f.write(':')\n",
    "            #weathertext - use strip() to remove the spacing from front and back of the string, add ')' for future purposes\n",
    "            f.write(t[\"WeatherText\"].lower().strip()+')')\n",
    "            f.write(\"\\n\")"
   ]
  },
  {
   "cell_type": "code",
   "execution_count": 14,
   "metadata": {},
   "outputs": [
    {
     "data": {
      "text/html": [
       "<div>\n",
       "<style scoped>\n",
       "    .dataframe tbody tr th:only-of-type {\n",
       "        vertical-align: middle;\n",
       "    }\n",
       "\n",
       "    .dataframe tbody tr th {\n",
       "        vertical-align: top;\n",
       "    }\n",
       "\n",
       "    .dataframe thead th {\n",
       "        text-align: right;\n",
       "    }\n",
       "</style>\n",
       "<table border=\"1\" class=\"dataframe\">\n",
       "  <thead>\n",
       "    <tr style=\"text-align: right;\">\n",
       "      <th></th>\n",
       "      <th>City</th>\n",
       "      <th>WeatherText</th>\n",
       "    </tr>\n",
       "  </thead>\n",
       "  <tbody>\n",
       "    <tr>\n",
       "      <th>0</th>\n",
       "      <td>perth</td>\n",
       "      <td>mostly cloudy)</td>\n",
       "    </tr>\n",
       "    <tr>\n",
       "      <th>1</th>\n",
       "      <td>perth</td>\n",
       "      <td>cloudy)</td>\n",
       "    </tr>\n",
       "    <tr>\n",
       "      <th>2</th>\n",
       "      <td>perth</td>\n",
       "      <td>light rain shower)</td>\n",
       "    </tr>\n",
       "    <tr>\n",
       "      <th>3</th>\n",
       "      <td>perth</td>\n",
       "      <td>light rain shower)</td>\n",
       "    </tr>\n",
       "    <tr>\n",
       "      <th>4</th>\n",
       "      <td>perth</td>\n",
       "      <td>rain shower)</td>\n",
       "    </tr>\n",
       "  </tbody>\n",
       "</table>\n",
       "</div>"
      ],
      "text/plain": [
       "      City         WeatherText\n",
       "0   perth       mostly cloudy)\n",
       "1   perth              cloudy)\n",
       "2   perth   light rain shower)\n",
       "3   perth   light rain shower)\n",
       "4   perth         rain shower)"
      ]
     },
     "execution_count": 14,
     "metadata": {},
     "output_type": "execute_result"
    }
   ],
   "source": [
    "#converting my text into a csv (pandas) seperated by the colon and no header. I then add columns to the pandas data frame\n",
    "data = pd.read_csv('part_b_data.txt', sep=\":\", header=None)\n",
    "data.columns = ['City', 'WeatherText']\n",
    "data.head()"
   ]
  },
  {
   "cell_type": "code",
   "execution_count": 15,
   "metadata": {},
   "outputs": [
    {
     "name": "stderr",
     "output_type": "stream",
     "text": [
      "C:\\Users\\Chris\\AppData\\Local\\Temp\\ipykernel_32392\\1434988618.py:2: FutureWarning: The default value of regex will change from True to False in a future version. In addition, single character regular expressions will *not* be treated as literal strings when regex=True.\n",
      "  data['WeatherText'] = data['WeatherText'].str.replace(\" \", \"_\").str.replace(')', ' ')\n"
     ]
    },
    {
     "data": {
      "text/html": [
       "<div>\n",
       "<style scoped>\n",
       "    .dataframe tbody tr th:only-of-type {\n",
       "        vertical-align: middle;\n",
       "    }\n",
       "\n",
       "    .dataframe tbody tr th {\n",
       "        vertical-align: top;\n",
       "    }\n",
       "\n",
       "    .dataframe thead th {\n",
       "        text-align: right;\n",
       "    }\n",
       "</style>\n",
       "<table border=\"1\" class=\"dataframe\">\n",
       "  <thead>\n",
       "    <tr style=\"text-align: right;\">\n",
       "      <th></th>\n",
       "      <th>City</th>\n",
       "      <th>WeatherText</th>\n",
       "    </tr>\n",
       "  </thead>\n",
       "  <tbody>\n",
       "    <tr>\n",
       "      <th>0</th>\n",
       "      <td>perth</td>\n",
       "      <td>mostly_cloudy</td>\n",
       "    </tr>\n",
       "    <tr>\n",
       "      <th>1</th>\n",
       "      <td>perth</td>\n",
       "      <td>cloudy</td>\n",
       "    </tr>\n",
       "    <tr>\n",
       "      <th>2</th>\n",
       "      <td>perth</td>\n",
       "      <td>light_rain_shower</td>\n",
       "    </tr>\n",
       "    <tr>\n",
       "      <th>3</th>\n",
       "      <td>perth</td>\n",
       "      <td>light_rain_shower</td>\n",
       "    </tr>\n",
       "    <tr>\n",
       "      <th>4</th>\n",
       "      <td>perth</td>\n",
       "      <td>rain_shower</td>\n",
       "    </tr>\n",
       "  </tbody>\n",
       "</table>\n",
       "</div>"
      ],
      "text/plain": [
       "      City         WeatherText\n",
       "0   perth       mostly_cloudy \n",
       "1   perth              cloudy \n",
       "2   perth   light_rain_shower \n",
       "3   perth   light_rain_shower \n",
       "4   perth         rain_shower "
      ]
     },
     "execution_count": 15,
     "metadata": {},
     "output_type": "execute_result"
    }
   ],
   "source": [
    "#We replace spacings with underscores and remove the ')' from what we had previously\n",
    "data['WeatherText'] = data['WeatherText'].str.replace(\" \", \"_\").str.replace(')', ' ')\n",
    "data.head()"
   ]
  },
  {
   "cell_type": "code",
   "execution_count": 16,
   "metadata": {},
   "outputs": [
    {
     "data": {
      "text/plain": [
       "[' brisbane ',\n",
       " ' canberra ',\n",
       " ' darwin ',\n",
       " ' hobart ',\n",
       " ' melbourne ',\n",
       " ' perth ',\n",
       " ' sydney ']"
      ]
     },
     "execution_count": 16,
     "metadata": {},
     "output_type": "execute_result"
    }
   ],
   "source": [
    "#grabbing all cities and storing within a sorted list\n",
    "cities = sorted(data['City'].unique().tolist())\n",
    "cities"
   ]
  },
  {
   "cell_type": "code",
   "execution_count": 17,
   "metadata": {},
   "outputs": [
    {
     "data": {
      "text/html": [
       "<div>\n",
       "<style scoped>\n",
       "    .dataframe tbody tr th:only-of-type {\n",
       "        vertical-align: middle;\n",
       "    }\n",
       "\n",
       "    .dataframe tbody tr th {\n",
       "        vertical-align: top;\n",
       "    }\n",
       "\n",
       "    .dataframe thead th {\n",
       "        text-align: right;\n",
       "    }\n",
       "</style>\n",
       "<table border=\"1\" class=\"dataframe\">\n",
       "  <thead>\n",
       "    <tr style=\"text-align: right;\">\n",
       "      <th></th>\n",
       "      <th>WeatherText</th>\n",
       "    </tr>\n",
       "    <tr>\n",
       "      <th>City</th>\n",
       "      <th></th>\n",
       "    </tr>\n",
       "  </thead>\n",
       "  <tbody>\n",
       "    <tr>\n",
       "      <th>brisbane</th>\n",
       "      <td>partly_sunny partly_sunny partly_sunny partly_...</td>\n",
       "    </tr>\n",
       "    <tr>\n",
       "      <th>canberra</th>\n",
       "      <td>rain rain heavy_rain heavy_rain thunderstorm c...</td>\n",
       "    </tr>\n",
       "    <tr>\n",
       "      <th>darwin</th>\n",
       "      <td>mostly_cloudy partly_sunny sunny sunny sunny c...</td>\n",
       "    </tr>\n",
       "    <tr>\n",
       "      <th>hobart</th>\n",
       "      <td>clouds_and_sun partly_sunny mostly_sunny mostl...</td>\n",
       "    </tr>\n",
       "    <tr>\n",
       "      <th>melbourne</th>\n",
       "      <td>mostly_cloudy mostly_cloudy mostly_cloudy most...</td>\n",
       "    </tr>\n",
       "    <tr>\n",
       "      <th>perth</th>\n",
       "      <td>mostly_cloudy cloudy light_rain_shower light_r...</td>\n",
       "    </tr>\n",
       "    <tr>\n",
       "      <th>sydney</th>\n",
       "      <td>cloudy cloudy cloudy mostly_cloudy cloudy clou...</td>\n",
       "    </tr>\n",
       "  </tbody>\n",
       "</table>\n",
       "</div>"
      ],
      "text/plain": [
       "                                                   WeatherText\n",
       "City                                                          \n",
       " brisbane    partly_sunny partly_sunny partly_sunny partly_...\n",
       " canberra    rain rain heavy_rain heavy_rain thunderstorm c...\n",
       " darwin      mostly_cloudy partly_sunny sunny sunny sunny c...\n",
       " hobart      clouds_and_sun partly_sunny mostly_sunny mostl...\n",
       " melbourne   mostly_cloudy mostly_cloudy mostly_cloudy most...\n",
       " perth       mostly_cloudy cloudy light_rain_shower light_r...\n",
       " sydney      cloudy cloudy cloudy mostly_cloudy cloudy clou..."
      ]
     },
     "execution_count": 17,
     "metadata": {},
     "output_type": "execute_result"
    }
   ],
   "source": [
    "#Group Citys by Sum to grab all Weather text for each city.\n",
    "city_weather_dat = data.groupby(\"City\").sum()\n",
    "city_weather_dat"
   ]
  },
  {
   "cell_type": "code",
   "execution_count": 18,
   "metadata": {},
   "outputs": [
    {
     "data": {
      "text/plain": [
       "['rain', 'rain', 'heavy_rain', 'heavy_rain', 'thunderstorm']"
      ]
     },
     "execution_count": 18,
     "metadata": {},
     "output_type": "execute_result"
    }
   ],
   "source": [
    "#converting the weather text data into arrays (each city's weather text is an array)\n",
    "list_weather = city_weather_dat.to_numpy()\n",
    "tokenized_weather = []\n",
    "#Word tokenizing the weather text to develop a list of each word\n",
    "for i in list_weather:\n",
    "    for k in i:\n",
    "        tokenized_weather.append(word_tokenize(k))\n",
    "tokenized_weather[1][:5]\n"
   ]
  },
  {
   "cell_type": "code",
   "execution_count": 19,
   "metadata": {},
   "outputs": [
    {
     "data": {
      "text/plain": [
       "[('partly_sunny', 16), ('foggy', 10), ('ground_fog', 10)]"
      ]
     },
     "execution_count": 19,
     "metadata": {},
     "output_type": "execute_result"
    }
   ],
   "source": [
    "#I iterate through the tokenized_weather list and collect each cities top 3 most common as add them to a new list\n",
    "three_most_common = []\n",
    "for i in tokenized_weather:\n",
    "    three_most_common.append(Counter(i).most_common(3))\n",
    "three_most_common[0]"
   ]
  },
  {
   "cell_type": "code",
   "execution_count": 20,
   "metadata": {},
   "outputs": [
    {
     "name": "stdout",
     "output_type": "stream",
     "text": [
      "{' brisbane ': [('partly_sunny', 16), ('foggy', 10), ('ground_fog', 10)], ' canberra ': [('mostly_cloudy', 8), ('thunderstorm', 6), ('cloudy', 6)], ' darwin ': [('partly_sunny', 10), ('clear', 8), ('cloudy', 8)], ' hobart ': [('cloudy', 12), ('mostly_clear', 8), ('mostly_sunny', 6)], ' melbourne ': [('mostly_cloudy', 48)], ' perth ': [('cloudy', 10), ('light_rain_shower', 10), ('rain_shower', 8)], ' sydney ': [('clear', 18), ('cloudy', 14), ('sunny', 8)]}\n"
     ]
    }
   ],
   "source": [
    "#I combined the city names most common weather text together through a dictionary\n",
    "results = {}\n",
    "for i in range(len(cities)):\n",
    "    results.update({cities[i] : three_most_common[i]})\n",
    "print(results)"
   ]
  },
  {
   "cell_type": "code",
   "execution_count": 21,
   "metadata": {},
   "outputs": [],
   "source": [
    "# Now I remove the underscore so we get a space inbetween words again\n",
    "for k,v in results.items():\n",
    "    for w, n in v:\n",
    "        w= w.replace(\"_\", \" \")"
   ]
  },
  {
   "cell_type": "code",
   "execution_count": 22,
   "metadata": {},
   "outputs": [
    {
     "name": "stdout",
     "output_type": "stream",
     "text": [
      "                               0                        1                  2\n",
      " brisbane     (partly_sunny, 16)              (foggy, 10)   (ground_fog, 10)\n",
      " canberra     (mostly_cloudy, 8)        (thunderstorm, 6)        (cloudy, 6)\n",
      " darwin       (partly_sunny, 10)               (clear, 8)        (cloudy, 8)\n",
      " hobart             (cloudy, 12)        (mostly_clear, 8)  (mostly_sunny, 6)\n",
      " melbourne   (mostly_cloudy, 48)                     None               None\n",
      " perth              (cloudy, 10)  (light_rain_shower, 10)   (rain_shower, 8)\n",
      " sydney              (clear, 18)             (cloudy, 14)         (sunny, 8)\n"
     ]
    }
   ],
   "source": [
    "#Converting the dictionary to a csv\n",
    "part_b_final = pd.DataFrame.from_dict(results, orient='index')\n",
    "print(part_b_final)\n",
    "part_b_final.to_csv('output.part_b.csv', index=True)"
   ]
  }
 ],
 "metadata": {
  "kernelspec": {
   "display_name": "Python 3.10.0 64-bit",
   "language": "python",
   "name": "python3"
  },
  "language_info": {
   "codemirror_mode": {
    "name": "ipython",
    "version": 3
   },
   "file_extension": ".py",
   "mimetype": "text/x-python",
   "name": "python",
   "nbconvert_exporter": "python",
   "pygments_lexer": "ipython3",
   "version": "3.10.0"
  },
  "orig_nbformat": 4,
  "vscode": {
   "interpreter": {
    "hash": "9337a79df3e5d869f0c5777e0d2b1209a728c6a52c1d44e22a85de3e5a3843fd"
   }
  }
 },
 "nbformat": 4,
 "nbformat_minor": 2
}
